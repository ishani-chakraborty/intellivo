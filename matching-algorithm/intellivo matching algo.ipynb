{
 "cells": [
  {
   "cell_type": "code",
   "execution_count": null,
   "metadata": {
    "ExecuteTime": {
     "end_time": "2020-07-19T17:38:41.777907Z",
     "start_time": "2020-07-19T17:38:41.620710Z"
    }
   },
   "outputs": [],
   "source": [
    "import pandas as pd\n",
    "import sqlite3\n",
    "import numpy as np\n",
    "import matplotlib.pyplot as plt\n",
    "import seaborn as sns\n",
    "sns.set()\n",
    "from sklearn.preprocessing import StandardScaler\n",
    "from sklearn.decomposition import PCA\n",
    "from scipy.spatial.distance import cosine"
   ]
  },
  {
   "cell_type": "code",
   "execution_count": 69,
   "metadata": {
    "ExecuteTime": {
     "end_time": "2020-07-20T04:29:53.797845Z",
     "start_time": "2020-07-20T04:29:53.731354Z"
    }
   },
   "outputs": [
    {
     "name": "stdout",
     "output_type": "stream",
     "text": [
      "   age  spirituality  location  engagement  user_id\n",
      "0    1             1         1           1        4\n",
      "1    1             3         6           4        6\n",
      "2    3             2         4           3        7\n",
      "3    3             2         8           4        8\n",
      "4    4             3         3           2        9\n",
      "   id firstname   lastname                email  \\\n",
      "0   3    hannah      ferns         hfer@whs.edu   \n",
      "1   4   Chelsea  Fernandes  ccfernandes@scu.edu   \n",
      "2   5   yvgubhi  yvgubhinj      vubhijn@uih.com   \n",
      "3   6     Sejal        Dua   sejaldua@gmail.com   \n",
      "4   7     Rahul        Dua  rahuldua1@gmail.com   \n",
      "\n",
      "                                            password  \n",
      "0  $2b$12$.8/w4iM2Rm5ju/bMOkdBVuqMrdQ5JU9CH/SpW5c...  \n",
      "1  $2b$12$w.ZMUx6qFYlO35u2kv1kr.Lg4DL6n1qpJue5/xr...  \n",
      "2  $2b$12$jYxC85uVoxjAK4hLsihiVOGN86eedebqWV53kxd...  \n",
      "3  $2b$12$nzSYkzBuj824tBP7wYj1wOESu.D/UsK92/Uo8Lk...  \n",
      "4  $2b$12$QLiq1tHvdpJP.MMhnvfyo.ymZSokDlXWSayeAdY...  \n"
     ]
    }
   ],
   "source": [
    "\n",
    "# Read sqlite query results into a pandas DataFrame\n",
    "con = sqlite3.connect(\"Intellivo-app/intellivo_package/intellivoUser.db\")\n",
    "df1 = pd.read_sql_query(\"SELECT * from user_pref\", con)\n",
    "df2 = pd.read_sql_query(\"SELECT * from user\", con)\n",
    "\n",
    "# Verify that result of SQL query is stored in the dataframe\n",
    "print(df1.head())\n",
    "print(df2.head())\n",
    "\n",
    "con.close()"
   ]
  },
  {
   "cell_type": "code",
   "execution_count": 71,
   "metadata": {
    "ExecuteTime": {
     "end_time": "2020-07-20T04:30:06.617618Z",
     "start_time": "2020-07-20T04:30:06.606204Z"
    }
   },
   "outputs": [
    {
     "name": "stdout",
     "output_type": "stream",
     "text": [
      "   age  spirituality  location  engagement  user_id\n",
      "0    1             1         1           1        4\n",
      "1    1             3         6           4        6\n",
      "2    3             2         4           3        7\n",
      "3    3             2         8           4        8\n",
      "4    4             3         3           2        9\n",
      "393\n"
     ]
    }
   ],
   "source": [
    "print(df1.head())\n",
    "print(len(df1))"
   ]
  },
  {
   "cell_type": "code",
   "execution_count": 72,
   "metadata": {
    "ExecuteTime": {
     "end_time": "2020-07-20T04:30:08.810857Z",
     "start_time": "2020-07-20T04:30:08.806038Z"
    }
   },
   "outputs": [],
   "source": [
    "# data = df1.drop(columns=['user_id'])\n",
    "# kmeans = KMeans(n_clusters=4)\n",
    "# kmeans.fit(data)\n",
    "# print(kmeans.cluster_centers_)\n",
    "# df1['CLUSTER'] = kmeans.fit_predict(data)\n",
    "# df1.tail()"
   ]
  },
  {
   "cell_type": "code",
   "execution_count": 74,
   "metadata": {
    "ExecuteTime": {
     "end_time": "2020-07-20T04:30:10.312513Z",
     "start_time": "2020-07-20T04:30:10.302315Z"
    }
   },
   "outputs": [],
   "source": [
    "scaler = StandardScaler()\n",
    "segmentation_std = scaler.fit_transform(df1.drop(columns=['user_id']))"
   ]
  },
  {
   "cell_type": "code",
   "execution_count": 75,
   "metadata": {
    "ExecuteTime": {
     "end_time": "2020-07-20T04:30:11.598133Z",
     "start_time": "2020-07-20T04:30:11.536480Z"
    }
   },
   "outputs": [
    {
     "data": {
      "text/plain": [
       "PCA(copy=True, iterated_power='auto', n_components=None, random_state=None,\n",
       "  svd_solver='auto', tol=0.0, whiten=False)"
      ]
     },
     "execution_count": 75,
     "metadata": {},
     "output_type": "execute_result"
    }
   ],
   "source": [
    "pca = PCA()\n",
    "pca.fit(segmentation_std)"
   ]
  },
  {
   "cell_type": "code",
   "execution_count": 76,
   "metadata": {
    "ExecuteTime": {
     "end_time": "2020-07-20T04:30:13.740546Z",
     "start_time": "2020-07-20T04:30:13.283104Z"
    }
   },
   "outputs": [
    {
     "data": {
      "text/plain": [
       "Text(0, 0.5, 'Cumulative Explained Variance')"
      ]
     },
     "execution_count": 76,
     "metadata": {},
     "output_type": "execute_result"
    },
    {
     "data": {
      "image/png": "[encoded data removed]",
      "text/plain": [
       "<Figure size 720x576 with 1 Axes>"
      ]
     },
     "metadata": {},
     "output_type": "display_data"
    }
   ],
   "source": [
    "plt.figure(figsize=(10, 8))\n",
    "plt.plot(range(1,5), pca.explained_variance_ratio_.cumsum(), marker='o', linestyle='--')\n",
    "plt.title('Explained Variance by Components')\n",
    "plt.xlabel('Number of Components')\n",
    "plt.ylabel('Cumulative Explained Variance')"
   ]
  },
  {
   "cell_type": "code",
   "execution_count": 77,
   "metadata": {
    "ExecuteTime": {
     "end_time": "2020-07-20T04:30:15.940609Z",
     "start_time": "2020-07-20T04:30:15.909381Z"
    }
   },
   "outputs": [
    {
     "data": {
      "text/plain": [
       "PCA(copy=True, iterated_power='auto', n_components=3, random_state=None,\n",
       "  svd_solver='auto', tol=0.0, whiten=False)"
      ]
     },
     "execution_count": 77,
     "metadata": {},
     "output_type": "execute_result"
    }
   ],
   "source": [
    "pca = PCA(n_components=3)\n",
    "pca.fit(segmentation_std)"
   ]
  },
  {
   "cell_type": "code",
   "execution_count": 78,
   "metadata": {
    "ExecuteTime": {
     "end_time": "2020-07-20T04:30:17.313321Z",
     "start_time": "2020-07-20T04:30:17.308386Z"
    }
   },
   "outputs": [],
   "source": [
    "scores_pca = pca.transform(segmentation_std)"
   ]
  },
  {
   "cell_type": "code",
   "execution_count": 79,
   "metadata": {
    "ExecuteTime": {
     "end_time": "2020-07-20T04:30:19.199921Z",
     "start_time": "2020-07-20T04:30:18.086277Z"
    }
   },
   "outputs": [],
   "source": [
    "#WCSS = Within Cluster Sum of Squares\n",
    "wcss = []\n",
    "for i in range(1, 21):\n",
    "    kmeans_pca = KMeans(n_clusters=i, init = 'k-means++', random_state=42)\n",
    "    kmeans_pca.fit(scores_pca)\n",
    "    wcss.append(kmeans_pca.inertia_)"
   ]
  },
  {
   "cell_type": "code",
   "execution_count": 80,
   "metadata": {
    "ExecuteTime": {
     "end_time": "2020-07-20T04:30:19.832062Z",
     "start_time": "2020-07-20T04:30:19.375282Z"
    }
   },
   "outputs": [
    {
     "data": {
      "text/plain": [
       "Text(0, 0.5, 'WCSS')"
      ]
     },
     "execution_count": 80,
     "metadata": {},
     "output_type": "execute_result"
    },
    {
     "data": {
      "image/png": "[encoded data removed]",
      "text/plain": [
       "<Figure size 720x576 with 1 Axes>"
      ]
     },
     "metadata": {},
     "output_type": "display_data"
    }
   ],
   "source": [
    "plt.figure(figsize=(10, 8))\n",
    "plt.plot(range(1,21), wcss, marker='o', linestyle='--')\n",
    "plt.title('K-means with PCA Clustering')\n",
    "plt.xlabel('Number of Clusters')\n",
    "plt.ylabel('WCSS')"
   ]
  },
  {
   "cell_type": "code",
   "execution_count": 81,
   "metadata": {
    "ExecuteTime": {
     "end_time": "2020-07-20T04:30:26.436656Z",
     "start_time": "2020-07-20T04:30:26.347183Z"
    }
   },
   "outputs": [
    {
     "data": {
      "text/plain": [
       "KMeans(algorithm='auto', copy_x=True, init='k-means++', max_iter=300,\n",
       "    n_clusters=4, n_init=10, n_jobs=1, precompute_distances='auto',\n",
       "    random_state=42, tol=0.0001, verbose=0)"
      ]
     },
     "execution_count": 81,
     "metadata": {},
     "output_type": "execute_result"
    }
   ],
   "source": [
    "kmeans_pca = KMeans(n_clusters=4, init='k-means++', random_state=42)\n",
    "kmeans_pca.fit(scores_pca)\n"
   ]
  },
  {
   "cell_type": "code",
   "execution_count": 82,
   "metadata": {
    "ExecuteTime": {
     "end_time": "2020-07-20T04:30:27.507147Z",
     "start_time": "2020-07-20T04:30:27.484013Z"
    }
   },
   "outputs": [
    {
     "data": {
      "text/html": [
       "<div>\n",
       "<style scoped>\n",
       "    .dataframe tbody tr th:only-of-type {\n",
       "        vertical-align: middle;\n",
       "    }\n",
       "\n",
       "    .dataframe tbody tr th {\n",
       "        vertical-align: top;\n",
       "    }\n",
       "\n",
       "    .dataframe thead th {\n",
       "        text-align: right;\n",
       "    }\n",
       "</style>\n",
       "<table border=\"1\" class=\"dataframe\">\n",
       "  <thead>\n",
       "    <tr style=\"text-align: right;\">\n",
       "      <th></th>\n",
       "      <th>age</th>\n",
       "      <th>spirituality</th>\n",
       "      <th>location</th>\n",
       "      <th>engagement</th>\n",
       "      <th>user_id</th>\n",
       "      <th>Component 1</th>\n",
       "      <th>Component 2</th>\n",
       "      <th>Component 3</th>\n",
       "      <th>Cluster Labels</th>\n",
       "    </tr>\n",
       "  </thead>\n",
       "  <tbody>\n",
       "    <tr>\n",
       "      <th>0</th>\n",
       "      <td>1</td>\n",
       "      <td>1</td>\n",
       "      <td>1</td>\n",
       "      <td>1</td>\n",
       "      <td>4</td>\n",
       "      <td>-2.835988</td>\n",
       "      <td>-0.521379</td>\n",
       "      <td>0.194094</td>\n",
       "      <td>3</td>\n",
       "    </tr>\n",
       "    <tr>\n",
       "      <th>1</th>\n",
       "      <td>1</td>\n",
       "      <td>3</td>\n",
       "      <td>6</td>\n",
       "      <td>4</td>\n",
       "      <td>6</td>\n",
       "      <td>-0.434348</td>\n",
       "      <td>-1.156306</td>\n",
       "      <td>-1.041635</td>\n",
       "      <td>0</td>\n",
       "    </tr>\n",
       "    <tr>\n",
       "      <th>2</th>\n",
       "      <td>3</td>\n",
       "      <td>2</td>\n",
       "      <td>4</td>\n",
       "      <td>3</td>\n",
       "      <td>7</td>\n",
       "      <td>-0.670458</td>\n",
       "      <td>0.064360</td>\n",
       "      <td>0.584068</td>\n",
       "      <td>3</td>\n",
       "    </tr>\n",
       "    <tr>\n",
       "      <th>3</th>\n",
       "      <td>3</td>\n",
       "      <td>2</td>\n",
       "      <td>8</td>\n",
       "      <td>4</td>\n",
       "      <td>8</td>\n",
       "      <td>0.365993</td>\n",
       "      <td>-0.473926</td>\n",
       "      <td>0.629211</td>\n",
       "      <td>1</td>\n",
       "    </tr>\n",
       "    <tr>\n",
       "      <th>4</th>\n",
       "      <td>4</td>\n",
       "      <td>3</td>\n",
       "      <td>3</td>\n",
       "      <td>2</td>\n",
       "      <td>9</td>\n",
       "      <td>-0.654515</td>\n",
       "      <td>1.431437</td>\n",
       "      <td>0.638769</td>\n",
       "      <td>3</td>\n",
       "    </tr>\n",
       "    <tr>\n",
       "      <th>...</th>\n",
       "      <td>...</td>\n",
       "      <td>...</td>\n",
       "      <td>...</td>\n",
       "      <td>...</td>\n",
       "      <td>...</td>\n",
       "      <td>...</td>\n",
       "      <td>...</td>\n",
       "      <td>...</td>\n",
       "      <td>...</td>\n",
       "    </tr>\n",
       "    <tr>\n",
       "      <th>388</th>\n",
       "      <td>2</td>\n",
       "      <td>1</td>\n",
       "      <td>8</td>\n",
       "      <td>5</td>\n",
       "      <td>440</td>\n",
       "      <td>0.186876</td>\n",
       "      <td>-1.806887</td>\n",
       "      <td>0.534125</td>\n",
       "      <td>0</td>\n",
       "    </tr>\n",
       "    <tr>\n",
       "      <th>389</th>\n",
       "      <td>2</td>\n",
       "      <td>2</td>\n",
       "      <td>7</td>\n",
       "      <td>5</td>\n",
       "      <td>441</td>\n",
       "      <td>0.240954</td>\n",
       "      <td>-1.402213</td>\n",
       "      <td>-0.050493</td>\n",
       "      <td>0</td>\n",
       "    </tr>\n",
       "    <tr>\n",
       "      <th>390</th>\n",
       "      <td>3</td>\n",
       "      <td>1</td>\n",
       "      <td>15</td>\n",
       "      <td>1</td>\n",
       "      <td>442</td>\n",
       "      <td>0.139686</td>\n",
       "      <td>0.122157</td>\n",
       "      <td>1.805331</td>\n",
       "      <td>1</td>\n",
       "    </tr>\n",
       "    <tr>\n",
       "      <th>391</th>\n",
       "      <td>3</td>\n",
       "      <td>1</td>\n",
       "      <td>10</td>\n",
       "      <td>2</td>\n",
       "      <td>443</td>\n",
       "      <td>-0.292425</td>\n",
       "      <td>-0.109078</td>\n",
       "      <td>1.487008</td>\n",
       "      <td>1</td>\n",
       "    </tr>\n",
       "    <tr>\n",
       "      <th>392</th>\n",
       "      <td>4</td>\n",
       "      <td>3</td>\n",
       "      <td>9</td>\n",
       "      <td>4</td>\n",
       "      <td>444</td>\n",
       "      <td>1.092040</td>\n",
       "      <td>0.423099</td>\n",
       "      <td>0.648286</td>\n",
       "      <td>1</td>\n",
       "    </tr>\n",
       "  </tbody>\n",
       "</table>\n",
       "<p>393 rows × 9 columns</p>\n",
       "</div>"
      ],
      "text/plain": [
       "     age  spirituality  location  engagement  user_id  Component 1  \\\n",
       "0      1             1         1           1        4    -2.835988   \n",
       "1      1             3         6           4        6    -0.434348   \n",
       "2      3             2         4           3        7    -0.670458   \n",
       "3      3             2         8           4        8     0.365993   \n",
       "4      4             3         3           2        9    -0.654515   \n",
       "..   ...           ...       ...         ...      ...          ...   \n",
       "388    2             1         8           5      440     0.186876   \n",
       "389    2             2         7           5      441     0.240954   \n",
       "390    3             1        15           1      442     0.139686   \n",
       "391    3             1        10           2      443    -0.292425   \n",
       "392    4             3         9           4      444     1.092040   \n",
       "\n",
       "     Component 2  Component 3  Cluster Labels  \n",
       "0      -0.521379     0.194094               3  \n",
       "1      -1.156306    -1.041635               0  \n",
       "2       0.064360     0.584068               3  \n",
       "3      -0.473926     0.629211               1  \n",
       "4       1.431437     0.638769               3  \n",
       "..           ...          ...             ...  \n",
       "388    -1.806887     0.534125               0  \n",
       "389    -1.402213    -0.050493               0  \n",
       "390     0.122157     1.805331               1  \n",
       "391    -0.109078     1.487008               1  \n",
       "392     0.423099     0.648286               1  \n",
       "\n",
       "[393 rows x 9 columns]"
      ]
     },
     "execution_count": 82,
     "metadata": {},
     "output_type": "execute_result"
    }
   ],
   "source": [
    "df_segm_pca_kmeans = pd.concat([df1.reset_index(drop = True), pd.DataFrame(scores_pca)], axis=1)\n",
    "df_segm_pca_kmeans.columns.values[-3:] = ['Component 1', 'Component 2', 'Component 3']\n",
    "df_segm_pca_kmeans['Cluster Labels'] = kmeans_pca.labels_\n",
    "df_segm_pca_kmeans"
   ]
  },
  {
   "cell_type": "code",
   "execution_count": 83,
   "metadata": {
    "ExecuteTime": {
     "end_time": "2020-07-20T04:30:32.433656Z",
     "start_time": "2020-07-20T04:30:32.419227Z"
    }
   },
   "outputs": [],
   "source": [
    "df_segm_pca_kmeans['Segment'] = df_segm_pca_kmeans['Cluster Labels'].map({0: 'first',\n",
    "                                                                        1: 'second',\n",
    "                                                                        2: 'third',\n",
    "                                                                        3: 'fourth'})"
   ]
  },
  {
   "cell_type": "code",
   "execution_count": 88,
   "metadata": {
    "ExecuteTime": {
     "end_time": "2020-07-20T04:35:20.209309Z",
     "start_time": "2020-07-20T04:35:19.274422Z"
    }
   },
   "outputs": [
    {
     "data": {
      "image/png": "[encoded data removed]",
      "text/plain": [
       "<Figure size 720x576 with 1 Axes>"
      ]
     },
     "metadata": {},
     "output_type": "display_data"
    }
   ],
   "source": [
    "x_axis = df_segm_pca_kmeans['Component 1']\n",
    "y_axis = df_segm_pca_kmeans['Component 2']\n",
    "plt.figure(figsize=(10, 8))\n",
    "sns.scatterplot(x_axis, y_axis, hue=df_segm_pca_kmeans['Segment'], palette=['g', 'r', 'c', 'm'])\n",
    "plt.title('Clusters by PCA Components')\n",
    "plt.show()"
   ]
  },
  {
   "cell_type": "code",
   "execution_count": 96,
   "metadata": {
    "ExecuteTime": {
     "end_time": "2020-07-20T04:44:05.307751Z",
     "start_time": "2020-07-20T04:44:05.291073Z"
    }
   },
   "outputs": [
    {
     "data": {
      "text/html": [
       "<div>\n",
       "<style scoped>\n",
       "    .dataframe tbody tr th:only-of-type {\n",
       "        vertical-align: middle;\n",
       "    }\n",
       "\n",
       "    .dataframe tbody tr th {\n",
       "        vertical-align: top;\n",
       "    }\n",
       "\n",
       "    .dataframe thead th {\n",
       "        text-align: right;\n",
       "    }\n",
       "</style>\n",
       "<table border=\"1\" class=\"dataframe\">\n",
       "  <thead>\n",
       "    <tr style=\"text-align: right;\">\n",
       "      <th></th>\n",
       "      <th>age</th>\n",
       "      <th>spirituality</th>\n",
       "      <th>location</th>\n",
       "      <th>engagement</th>\n",
       "      <th>user_id</th>\n",
       "      <th>Component 1</th>\n",
       "      <th>Component 2</th>\n",
       "      <th>Component 3</th>\n",
       "      <th>Cluster Labels</th>\n",
       "      <th>Segment</th>\n",
       "    </tr>\n",
       "  </thead>\n",
       "  <tbody>\n",
       "    <tr>\n",
       "      <th>0</th>\n",
       "      <td>1</td>\n",
       "      <td>1</td>\n",
       "      <td>1</td>\n",
       "      <td>1</td>\n",
       "      <td>4</td>\n",
       "      <td>-2.835988</td>\n",
       "      <td>-0.521379</td>\n",
       "      <td>0.194094</td>\n",
       "      <td>3</td>\n",
       "      <td>fourth</td>\n",
       "    </tr>\n",
       "    <tr>\n",
       "      <th>1</th>\n",
       "      <td>1</td>\n",
       "      <td>3</td>\n",
       "      <td>6</td>\n",
       "      <td>4</td>\n",
       "      <td>6</td>\n",
       "      <td>-0.434348</td>\n",
       "      <td>-1.156306</td>\n",
       "      <td>-1.041635</td>\n",
       "      <td>0</td>\n",
       "      <td>first</td>\n",
       "    </tr>\n",
       "    <tr>\n",
       "      <th>2</th>\n",
       "      <td>3</td>\n",
       "      <td>2</td>\n",
       "      <td>4</td>\n",
       "      <td>3</td>\n",
       "      <td>7</td>\n",
       "      <td>-0.670458</td>\n",
       "      <td>0.064360</td>\n",
       "      <td>0.584068</td>\n",
       "      <td>3</td>\n",
       "      <td>fourth</td>\n",
       "    </tr>\n",
       "    <tr>\n",
       "      <th>3</th>\n",
       "      <td>3</td>\n",
       "      <td>2</td>\n",
       "      <td>8</td>\n",
       "      <td>4</td>\n",
       "      <td>8</td>\n",
       "      <td>0.365993</td>\n",
       "      <td>-0.473926</td>\n",
       "      <td>0.629211</td>\n",
       "      <td>1</td>\n",
       "      <td>second</td>\n",
       "    </tr>\n",
       "    <tr>\n",
       "      <th>4</th>\n",
       "      <td>4</td>\n",
       "      <td>3</td>\n",
       "      <td>3</td>\n",
       "      <td>2</td>\n",
       "      <td>9</td>\n",
       "      <td>-0.654515</td>\n",
       "      <td>1.431437</td>\n",
       "      <td>0.638769</td>\n",
       "      <td>3</td>\n",
       "      <td>fourth</td>\n",
       "    </tr>\n",
       "    <tr>\n",
       "      <th>...</th>\n",
       "      <td>...</td>\n",
       "      <td>...</td>\n",
       "      <td>...</td>\n",
       "      <td>...</td>\n",
       "      <td>...</td>\n",
       "      <td>...</td>\n",
       "      <td>...</td>\n",
       "      <td>...</td>\n",
       "      <td>...</td>\n",
       "      <td>...</td>\n",
       "    </tr>\n",
       "    <tr>\n",
       "      <th>388</th>\n",
       "      <td>2</td>\n",
       "      <td>1</td>\n",
       "      <td>8</td>\n",
       "      <td>5</td>\n",
       "      <td>440</td>\n",
       "      <td>0.186876</td>\n",
       "      <td>-1.806887</td>\n",
       "      <td>0.534125</td>\n",
       "      <td>0</td>\n",
       "      <td>first</td>\n",
       "    </tr>\n",
       "    <tr>\n",
       "      <th>389</th>\n",
       "      <td>2</td>\n",
       "      <td>2</td>\n",
       "      <td>7</td>\n",
       "      <td>5</td>\n",
       "      <td>441</td>\n",
       "      <td>0.240954</td>\n",
       "      <td>-1.402213</td>\n",
       "      <td>-0.050493</td>\n",
       "      <td>0</td>\n",
       "      <td>first</td>\n",
       "    </tr>\n",
       "    <tr>\n",
       "      <th>390</th>\n",
       "      <td>3</td>\n",
       "      <td>1</td>\n",
       "      <td>15</td>\n",
       "      <td>1</td>\n",
       "      <td>442</td>\n",
       "      <td>0.139686</td>\n",
       "      <td>0.122157</td>\n",
       "      <td>1.805331</td>\n",
       "      <td>1</td>\n",
       "      <td>second</td>\n",
       "    </tr>\n",
       "    <tr>\n",
       "      <th>391</th>\n",
       "      <td>3</td>\n",
       "      <td>1</td>\n",
       "      <td>10</td>\n",
       "      <td>2</td>\n",
       "      <td>443</td>\n",
       "      <td>-0.292425</td>\n",
       "      <td>-0.109078</td>\n",
       "      <td>1.487008</td>\n",
       "      <td>1</td>\n",
       "      <td>second</td>\n",
       "    </tr>\n",
       "    <tr>\n",
       "      <th>392</th>\n",
       "      <td>4</td>\n",
       "      <td>3</td>\n",
       "      <td>9</td>\n",
       "      <td>4</td>\n",
       "      <td>444</td>\n",
       "      <td>1.092040</td>\n",
       "      <td>0.423099</td>\n",
       "      <td>0.648286</td>\n",
       "      <td>1</td>\n",
       "      <td>second</td>\n",
       "    </tr>\n",
       "  </tbody>\n",
       "</table>\n",
       "<p>393 rows × 10 columns</p>\n",
       "</div>"
      ],
      "text/plain": [
       "     age  spirituality  location  engagement  user_id  Component 1  \\\n",
       "0      1             1         1           1        4    -2.835988   \n",
       "1      1             3         6           4        6    -0.434348   \n",
       "2      3             2         4           3        7    -0.670458   \n",
       "3      3             2         8           4        8     0.365993   \n",
       "4      4             3         3           2        9    -0.654515   \n",
       "..   ...           ...       ...         ...      ...          ...   \n",
       "388    2             1         8           5      440     0.186876   \n",
       "389    2             2         7           5      441     0.240954   \n",
       "390    3             1        15           1      442     0.139686   \n",
       "391    3             1        10           2      443    -0.292425   \n",
       "392    4             3         9           4      444     1.092040   \n",
       "\n",
       "     Component 2  Component 3  Cluster Labels Segment  \n",
       "0      -0.521379     0.194094               3  fourth  \n",
       "1      -1.156306    -1.041635               0   first  \n",
       "2       0.064360     0.584068               3  fourth  \n",
       "3      -0.473926     0.629211               1  second  \n",
       "4       1.431437     0.638769               3  fourth  \n",
       "..           ...          ...             ...     ...  \n",
       "388    -1.806887     0.534125               0   first  \n",
       "389    -1.402213    -0.050493               0   first  \n",
       "390     0.122157     1.805331               1  second  \n",
       "391    -0.109078     1.487008               1  second  \n",
       "392     0.423099     0.648286               1  second  \n",
       "\n",
       "[393 rows x 10 columns]"
      ]
     },
     "execution_count": 96,
     "metadata": {},
     "output_type": "execute_result"
    }
   ],
   "source": [
    "df_segm_pca_kmeans"
   ]
  },
  {
   "cell_type": "code",
   "execution_count": 140,
   "metadata": {
    "ExecuteTime": {
     "end_time": "2020-07-20T05:51:40.466867Z",
     "start_time": "2020-07-20T05:51:40.393362Z"
    }
   },
   "outputs": [
    {
     "name": "stdout",
     "output_type": "stream",
     "text": [
      "First Name\t\t Sejal\n",
      "Last Name\t\t Dua\n",
      "Email\t\t\t sejaldua@gmail.com\n",
      "-------------------------------------------\n",
      "Age\t\t\t 1\n",
      "Spirituality\t\t 3\n",
      "Location\t\t 6\n",
      "Engagement\t\t 4\n",
      "-------------------------------------------\n",
      "Cluster\t\t\t 0\n"
     ]
    }
   ],
   "source": [
    "test_user = df_segm_pca_kmeans.iloc[1, :4]\n",
    "credentials = df2[df2['id'] == df_segm_pca_kmeans.iloc[1, 4]]\n",
    "cluster = df_segm_pca_kmeans.iloc[1, 8]\n",
    "print(\"First Name\\t\\t\", credentials.iloc[0, 1])\n",
    "print(\"Last Name\\t\\t\", credentials.iloc[0, 2])\n",
    "print(\"Email\\t\\t\\t\", credentials.iloc[0, 3])\n",
    "print(\"-------------------------------------------\")\n",
    "print(\"Age\\t\\t\\t\", test_user.iloc[0])\n",
    "print(\"Spirituality\\t\\t\", test_user.iloc[1])\n",
    "print(\"Location\\t\\t\", test_user.iloc[2])\n",
    "print(\"Engagement\\t\\t\", test_user.iloc[3])\n",
    "print(\"-------------------------------------------\")\n",
    "print(\"Cluster\\t\\t\\t\", cluster)"
   ]
  },
  {
   "cell_type": "code",
   "execution_count": 145,
   "metadata": {
    "ExecuteTime": {
     "end_time": "2020-07-20T05:58:50.287032Z",
     "start_time": "2020-07-20T05:58:50.142506Z"
    }
   },
   "outputs": [
    {
     "name": "stderr",
     "output_type": "stream",
     "text": [
      "/anaconda3/lib/python3.6/site-packages/ipykernel_launcher.py:5: SettingWithCopyWarning: \n",
      "A value is trying to be set on a copy of a slice from a DataFrame.\n",
      "Try using .loc[row_indexer,col_indexer] = value instead\n",
      "\n",
      "See the caveats in the documentation: https://pandas.pydata.org/pandas-docs/stable/user_guide/indexing.html#returning-a-view-versus-a-copy\n",
      "  \"\"\"\n",
      "/anaconda3/lib/python3.6/site-packages/ipykernel_launcher.py:6: SettingWithCopyWarning: \n",
      "A value is trying to be set on a copy of a slice from a DataFrame\n",
      "\n",
      "See the caveats in the documentation: https://pandas.pydata.org/pandas-docs/stable/user_guide/indexing.html#returning-a-view-versus-a-copy\n",
      "  \n"
     ]
    },
    {
     "data": {
      "text/html": [
       "<div>\n",
       "<style scoped>\n",
       "    .dataframe tbody tr th:only-of-type {\n",
       "        vertical-align: middle;\n",
       "    }\n",
       "\n",
       "    .dataframe tbody tr th {\n",
       "        vertical-align: top;\n",
       "    }\n",
       "\n",
       "    .dataframe thead th {\n",
       "        text-align: right;\n",
       "    }\n",
       "</style>\n",
       "<table border=\"1\" class=\"dataframe\">\n",
       "  <thead>\n",
       "    <tr style=\"text-align: right;\">\n",
       "      <th></th>\n",
       "      <th>age</th>\n",
       "      <th>spirituality</th>\n",
       "      <th>location</th>\n",
       "      <th>engagement</th>\n",
       "      <th>user_id</th>\n",
       "      <th>Component 1</th>\n",
       "      <th>Component 2</th>\n",
       "      <th>Component 3</th>\n",
       "      <th>Cluster Labels</th>\n",
       "      <th>Segment</th>\n",
       "      <th>distances</th>\n",
       "    </tr>\n",
       "  </thead>\n",
       "  <tbody>\n",
       "    <tr>\n",
       "      <th>100</th>\n",
       "      <td>4</td>\n",
       "      <td>3</td>\n",
       "      <td>1</td>\n",
       "      <td>1</td>\n",
       "      <td>106</td>\n",
       "      <td>-1.364619</td>\n",
       "      <td>1.901490</td>\n",
       "      <td>0.674396</td>\n",
       "      <td>3</td>\n",
       "      <td>fourth</td>\n",
       "      <td>0.472954</td>\n",
       "    </tr>\n",
       "    <tr>\n",
       "      <th>48</th>\n",
       "      <td>4</td>\n",
       "      <td>4</td>\n",
       "      <td>1</td>\n",
       "      <td>1</td>\n",
       "      <td>53</td>\n",
       "      <td>-1.147367</td>\n",
       "      <td>2.272046</td>\n",
       "      <td>0.130163</td>\n",
       "      <td>3</td>\n",
       "      <td>fourth</td>\n",
       "      <td>0.452277</td>\n",
       "    </tr>\n",
       "    <tr>\n",
       "      <th>385</th>\n",
       "      <td>3</td>\n",
       "      <td>1</td>\n",
       "      <td>1</td>\n",
       "      <td>1</td>\n",
       "      <td>437</td>\n",
       "      <td>-2.144744</td>\n",
       "      <td>0.599791</td>\n",
       "      <td>1.239938</td>\n",
       "      <td>3</td>\n",
       "      <td>fourth</td>\n",
       "      <td>0.403715</td>\n",
       "    </tr>\n",
       "    <tr>\n",
       "      <th>159</th>\n",
       "      <td>3</td>\n",
       "      <td>5</td>\n",
       "      <td>1</td>\n",
       "      <td>1</td>\n",
       "      <td>171</td>\n",
       "      <td>-1.275738</td>\n",
       "      <td>2.082018</td>\n",
       "      <td>-0.936991</td>\n",
       "      <td>3</td>\n",
       "      <td>fourth</td>\n",
       "      <td>0.397536</td>\n",
       "    </tr>\n",
       "    <tr>\n",
       "      <th>66</th>\n",
       "      <td>4</td>\n",
       "      <td>5</td>\n",
       "      <td>2</td>\n",
       "      <td>1</td>\n",
       "      <td>72</td>\n",
       "      <td>-0.766942</td>\n",
       "      <td>2.608486</td>\n",
       "      <td>-0.373684</td>\n",
       "      <td>3</td>\n",
       "      <td>fourth</td>\n",
       "      <td>0.377201</td>\n",
       "    </tr>\n",
       "    <tr>\n",
       "      <th>...</th>\n",
       "      <td>...</td>\n",
       "      <td>...</td>\n",
       "      <td>...</td>\n",
       "      <td>...</td>\n",
       "      <td>...</td>\n",
       "      <td>...</td>\n",
       "      <td>...</td>\n",
       "      <td>...</td>\n",
       "      <td>...</td>\n",
       "      <td>...</td>\n",
       "      <td>...</td>\n",
       "    </tr>\n",
       "    <tr>\n",
       "      <th>86</th>\n",
       "      <td>2</td>\n",
       "      <td>3</td>\n",
       "      <td>3</td>\n",
       "      <td>3</td>\n",
       "      <td>92</td>\n",
       "      <td>-0.962003</td>\n",
       "      <td>-0.091552</td>\n",
       "      <td>-0.523472</td>\n",
       "      <td>3</td>\n",
       "      <td>fourth</td>\n",
       "      <td>0.024100</td>\n",
       "    </tr>\n",
       "    <tr>\n",
       "      <th>279</th>\n",
       "      <td>2</td>\n",
       "      <td>2</td>\n",
       "      <td>5</td>\n",
       "      <td>3</td>\n",
       "      <td>311</td>\n",
       "      <td>-0.852907</td>\n",
       "      <td>-0.530342</td>\n",
       "      <td>0.101531</td>\n",
       "      <td>3</td>\n",
       "      <td>fourth</td>\n",
       "      <td>0.020204</td>\n",
       "    </tr>\n",
       "    <tr>\n",
       "      <th>307</th>\n",
       "      <td>1</td>\n",
       "      <td>1</td>\n",
       "      <td>1</td>\n",
       "      <td>2</td>\n",
       "      <td>348</td>\n",
       "      <td>-2.452232</td>\n",
       "      <td>-0.923198</td>\n",
       "      <td>0.077697</td>\n",
       "      <td>3</td>\n",
       "      <td>fourth</td>\n",
       "      <td>-0.032796</td>\n",
       "    </tr>\n",
       "    <tr>\n",
       "      <th>113</th>\n",
       "      <td>1</td>\n",
       "      <td>2</td>\n",
       "      <td>3</td>\n",
       "      <td>1</td>\n",
       "      <td>121</td>\n",
       "      <td>-2.292390</td>\n",
       "      <td>-0.219056</td>\n",
       "      <td>-0.269367</td>\n",
       "      <td>3</td>\n",
       "      <td>fourth</td>\n",
       "      <td>-0.043498</td>\n",
       "    </tr>\n",
       "    <tr>\n",
       "      <th>65</th>\n",
       "      <td>1</td>\n",
       "      <td>1</td>\n",
       "      <td>2</td>\n",
       "      <td>2</td>\n",
       "      <td>71</td>\n",
       "      <td>-2.289058</td>\n",
       "      <td>-0.957315</td>\n",
       "      <td>0.118083</td>\n",
       "      <td>3</td>\n",
       "      <td>fourth</td>\n",
       "      <td>-0.095445</td>\n",
       "    </tr>\n",
       "  </tbody>\n",
       "</table>\n",
       "<p>100 rows × 11 columns</p>\n",
       "</div>"
      ],
      "text/plain": [
       "     age  spirituality  location  engagement  user_id  Component 1  \\\n",
       "100    4             3         1           1      106    -1.364619   \n",
       "48     4             4         1           1       53    -1.147367   \n",
       "385    3             1         1           1      437    -2.144744   \n",
       "159    3             5         1           1      171    -1.275738   \n",
       "66     4             5         2           1       72    -0.766942   \n",
       "..   ...           ...       ...         ...      ...          ...   \n",
       "86     2             3         3           3       92    -0.962003   \n",
       "279    2             2         5           3      311    -0.852907   \n",
       "307    1             1         1           2      348    -2.452232   \n",
       "113    1             2         3           1      121    -2.292390   \n",
       "65     1             1         2           2       71    -2.289058   \n",
       "\n",
       "     Component 2  Component 3  Cluster Labels Segment  distances  \n",
       "100     1.901490     0.674396               3  fourth   0.472954  \n",
       "48      2.272046     0.130163               3  fourth   0.452277  \n",
       "385     0.599791     1.239938               3  fourth   0.403715  \n",
       "159     2.082018    -0.936991               3  fourth   0.397536  \n",
       "66      2.608486    -0.373684               3  fourth   0.377201  \n",
       "..           ...          ...             ...     ...        ...  \n",
       "86     -0.091552    -0.523472               3  fourth   0.024100  \n",
       "279    -0.530342     0.101531               3  fourth   0.020204  \n",
       "307    -0.923198     0.077697               3  fourth  -0.032796  \n",
       "113    -0.219056    -0.269367               3  fourth  -0.043498  \n",
       "65     -0.957315     0.118083               3  fourth  -0.095445  \n",
       "\n",
       "[100 rows x 11 columns]"
      ]
     },
     "execution_count": 145,
     "metadata": {},
     "output_type": "execute_result"
    }
   ],
   "source": [
    "group = df_segm_pca_kmeans[df_segm_pca_kmeans[\"Cluster Labels\"] == 3]\n",
    "distances = []\n",
    "for i in range(len(group)):\n",
    "    distances.append(cosine(test_user, group.iloc[i, :4]))\n",
    "group['distances'] = distances\n",
    "group.sort_values(by='distances', ascending=False, inplace=True)\n",
    "group"
   ]
  },
  {
   "cell_type": "code",
   "execution_count": 146,
   "metadata": {
    "ExecuteTime": {
     "end_time": "2020-07-20T05:59:37.560399Z",
     "start_time": "2020-07-20T05:59:37.535777Z"
    }
   },
   "outputs": [
    {
     "name": "stdout",
     "output_type": "stream",
     "text": [
      "Age\t\t\t 4\n",
      "Spirituality\t\t 3\n",
      "Location\t\t 1\n",
      "Engagement\t\t 1\n",
      "-------------------------------------------\n",
      "Cluster\t\t\t 3\n"
     ]
    }
   ],
   "source": [
    "match = group.iloc[0, :4]\n",
    "print(\"Age\\t\\t\\t\", match.iloc[0])\n",
    "print(\"Spirituality\\t\\t\", match.iloc[1])\n",
    "print(\"Location\\t\\t\", match.iloc[2])\n",
    "print(\"Engagement\\t\\t\", match.iloc[3])\n",
    "print(\"-------------------------------------------\")\n",
    "print(\"Cluster\\t\\t\\t\", group.iloc[0,8])"
   ]
  },
  {
   "cell_type": "code",
   "execution_count": null,
   "metadata": {},
   "outputs": [],
   "source": []
  }
 ],
 "metadata": {
  "kernelspec": {
   "display_name": "Python 3",
   "language": "python",
   "name": "python3"
  },
  "language_info": {
   "codemirror_mode": {
    "name": "ipython",
    "version": 3
   },
   "file_extension": ".py",
   "mimetype": "text/x-python",
   "name": "python",
   "nbconvert_exporter": "python",
   "pygments_lexer": "ipython3",
   "version": "3.6.6"
  },
  "toc": {
   "base_numbering": 1,
   "nav_menu": {},
   "number_sections": true,
   "sideBar": true,
   "skip_h1_title": false,
   "title_cell": "Table of Contents",
   "title_sidebar": "Contents",
   "toc_cell": false,
   "toc_position": {},
   "toc_section_display": true,
   "toc_window_display": false
  },
  "varInspector": {
   "cols": {
    "lenName": 16,
    "lenType": 16,
    "lenVar": 40
   },
   "kernels_config": {
    "python": {
     "delete_cmd_postfix": "",
     "delete_cmd_prefix": "del ",
     "library": "var_list.py",
     "varRefreshCmd": "print(var_dic_list())"
    },
    "r": {
     "delete_cmd_postfix": ") ",
     "delete_cmd_prefix": "rm(",
     "library": "var_list.r",
     "varRefreshCmd": "cat(var_dic_list()) "
    }
   },
   "types_to_exclude": [
    "module",
    "function",
    "builtin_function_or_method",
    "instance",
    "_Feature"
   ],
   "window_display": false
  }
 },
 "nbformat": 4,
 "nbformat_minor": 2
}
